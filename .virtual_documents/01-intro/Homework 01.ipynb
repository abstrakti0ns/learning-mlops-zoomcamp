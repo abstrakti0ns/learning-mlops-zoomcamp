import pandas as pd
import numpy as np
from sklearn.feature_extraction import DictVectorizer
from sklearn.linear_model import LinearRegression
from sklearn.metrics import mean_squared_error


df1 = pd.read_parquet('https://d37ci6vzurychx.cloudfront.net/trip-data/yellow_tripdata_2023-01.parquet')


df1.head()


df1.shape


df2 = pd.read_parquet('https://d37ci6vzurychx.cloudfront.net/trip-data/yellow_tripdata_2023-02.parquet')


df2.head()


df2.shape


df = pd.concat([df1, df2], axis=0)





df1['duration'] = df1['tpep_dropoff_datetime'] - df1['tpep_pickup_datetime']
df['duration'] = df['tpep_dropoff_datetime'] - df['tpep_pickup_datetime']


# calculate standard deviation
df1['duration'].std()


# remove outliers, keep only duration between 1 - 60 mins
df1_clean = df1[(df1['duration'] >= pd.Timedelta(minutes=1)) & (df1['duration'] <= pd.Timedelta(minutes=60))]
len(df1_clean) / len(df1)





locs = df1_clean[['PULocationID', 'DOLocationID']].astype(str)


dict_locs = locs.to_dict(orient='records')


vec = DictVectorizer(sparse=True)


X = vec.fit_transform(dict_locs)


len(vec.get_feature_names_out())





y = df1_clean['duration'] / np.timedelta64(1, 'm')


lr = LinearRegression()


lr.fit(X, y)


y_pred = lr.predict(X)


print(mean_squared_error(y, y_pred))





locs_test = df[['PULocationID', 'DOLocationID']].astype(str)
dict_locs_test = locs_test.to_dict(orient='records')
X_test = vec.fit_transform(dict_locs_test)


y_test = df['duration'] / np.timedelta64(1, 'm')
y_test_pred = lr.predict(X_test)


print(mean_squared_error())
