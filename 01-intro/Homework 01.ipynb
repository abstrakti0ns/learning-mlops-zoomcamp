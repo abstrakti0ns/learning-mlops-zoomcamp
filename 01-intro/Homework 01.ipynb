{
 "cells": [
  {
   "cell_type": "code",
   "execution_count": 4,
   "id": "d9ae917e",
   "metadata": {
    "execution": {
     "iopub.execute_input": "2025-05-21T23:25:29.751604Z",
     "iopub.status.busy": "2025-05-21T23:25:29.751038Z",
     "iopub.status.idle": "2025-05-21T23:25:29.757258Z",
     "shell.execute_reply": "2025-05-21T23:25:29.756323Z",
     "shell.execute_reply.started": "2025-05-21T23:25:29.751566Z"
    },
    "tags": []
   },
   "outputs": [],
   "source": [
    "import pandas as pd\n",
    "import numpy as np\n",
    "from sklearn.feature_extraction import DictVectorizer\n",
    "from sklearn.linear_model import LinearRegression, Lasso, Ridge\n",
    "from sklearn.metrics import mean_squared_error"
   ]
  },
  {
   "cell_type": "code",
   "execution_count": 5,
   "id": "a5ef7ab8-4c9c-4a91-a7ad-eef61d97756e",
   "metadata": {
    "execution": {
     "iopub.execute_input": "2025-05-21T23:25:29.761443Z",
     "iopub.status.busy": "2025-05-21T23:25:29.760852Z",
     "iopub.status.idle": "2025-05-21T23:25:34.369198Z",
     "shell.execute_reply": "2025-05-21T23:25:34.368781Z",
     "shell.execute_reply.started": "2025-05-21T23:25:29.761403Z"
    },
    "tags": []
   },
   "outputs": [],
   "source": [
    "df1 = pd.read_parquet('https://d37ci6vzurychx.cloudfront.net/trip-data/yellow_tripdata_2023-01.parquet')"
   ]
  },
  {
   "cell_type": "code",
   "execution_count": 6,
   "id": "e67538bc-54c2-41fb-a09f-c904ededd6b8",
   "metadata": {
    "execution": {
     "iopub.execute_input": "2025-05-21T23:25:34.370014Z",
     "iopub.status.busy": "2025-05-21T23:25:34.369841Z",
     "iopub.status.idle": "2025-05-21T23:25:34.386058Z",
     "shell.execute_reply": "2025-05-21T23:25:34.384674Z",
     "shell.execute_reply.started": "2025-05-21T23:25:34.370001Z"
    },
    "tags": []
   },
   "outputs": [
    {
     "data": {
      "text/html": [
       "<div>\n",
       "<style scoped>\n",
       "    .dataframe tbody tr th:only-of-type {\n",
       "        vertical-align: middle;\n",
       "    }\n",
       "\n",
       "    .dataframe tbody tr th {\n",
       "        vertical-align: top;\n",
       "    }\n",
       "\n",
       "    .dataframe thead th {\n",
       "        text-align: right;\n",
       "    }\n",
       "</style>\n",
       "<table border=\"1\" class=\"dataframe\">\n",
       "  <thead>\n",
       "    <tr style=\"text-align: right;\">\n",
       "      <th></th>\n",
       "      <th>VendorID</th>\n",
       "      <th>tpep_pickup_datetime</th>\n",
       "      <th>tpep_dropoff_datetime</th>\n",
       "      <th>passenger_count</th>\n",
       "      <th>trip_distance</th>\n",
       "      <th>RatecodeID</th>\n",
       "      <th>store_and_fwd_flag</th>\n",
       "      <th>PULocationID</th>\n",
       "      <th>DOLocationID</th>\n",
       "      <th>payment_type</th>\n",
       "      <th>fare_amount</th>\n",
       "      <th>extra</th>\n",
       "      <th>mta_tax</th>\n",
       "      <th>tip_amount</th>\n",
       "      <th>tolls_amount</th>\n",
       "      <th>improvement_surcharge</th>\n",
       "      <th>total_amount</th>\n",
       "      <th>congestion_surcharge</th>\n",
       "      <th>airport_fee</th>\n",
       "    </tr>\n",
       "  </thead>\n",
       "  <tbody>\n",
       "    <tr>\n",
       "      <th>0</th>\n",
       "      <td>2</td>\n",
       "      <td>2023-01-01 00:32:10</td>\n",
       "      <td>2023-01-01 00:40:36</td>\n",
       "      <td>1.0</td>\n",
       "      <td>0.97</td>\n",
       "      <td>1.0</td>\n",
       "      <td>N</td>\n",
       "      <td>161</td>\n",
       "      <td>141</td>\n",
       "      <td>2</td>\n",
       "      <td>9.3</td>\n",
       "      <td>1.00</td>\n",
       "      <td>0.5</td>\n",
       "      <td>0.00</td>\n",
       "      <td>0.0</td>\n",
       "      <td>1.0</td>\n",
       "      <td>14.30</td>\n",
       "      <td>2.5</td>\n",
       "      <td>0.00</td>\n",
       "    </tr>\n",
       "    <tr>\n",
       "      <th>1</th>\n",
       "      <td>2</td>\n",
       "      <td>2023-01-01 00:55:08</td>\n",
       "      <td>2023-01-01 01:01:27</td>\n",
       "      <td>1.0</td>\n",
       "      <td>1.10</td>\n",
       "      <td>1.0</td>\n",
       "      <td>N</td>\n",
       "      <td>43</td>\n",
       "      <td>237</td>\n",
       "      <td>1</td>\n",
       "      <td>7.9</td>\n",
       "      <td>1.00</td>\n",
       "      <td>0.5</td>\n",
       "      <td>4.00</td>\n",
       "      <td>0.0</td>\n",
       "      <td>1.0</td>\n",
       "      <td>16.90</td>\n",
       "      <td>2.5</td>\n",
       "      <td>0.00</td>\n",
       "    </tr>\n",
       "    <tr>\n",
       "      <th>2</th>\n",
       "      <td>2</td>\n",
       "      <td>2023-01-01 00:25:04</td>\n",
       "      <td>2023-01-01 00:37:49</td>\n",
       "      <td>1.0</td>\n",
       "      <td>2.51</td>\n",
       "      <td>1.0</td>\n",
       "      <td>N</td>\n",
       "      <td>48</td>\n",
       "      <td>238</td>\n",
       "      <td>1</td>\n",
       "      <td>14.9</td>\n",
       "      <td>1.00</td>\n",
       "      <td>0.5</td>\n",
       "      <td>15.00</td>\n",
       "      <td>0.0</td>\n",
       "      <td>1.0</td>\n",
       "      <td>34.90</td>\n",
       "      <td>2.5</td>\n",
       "      <td>0.00</td>\n",
       "    </tr>\n",
       "    <tr>\n",
       "      <th>3</th>\n",
       "      <td>1</td>\n",
       "      <td>2023-01-01 00:03:48</td>\n",
       "      <td>2023-01-01 00:13:25</td>\n",
       "      <td>0.0</td>\n",
       "      <td>1.90</td>\n",
       "      <td>1.0</td>\n",
       "      <td>N</td>\n",
       "      <td>138</td>\n",
       "      <td>7</td>\n",
       "      <td>1</td>\n",
       "      <td>12.1</td>\n",
       "      <td>7.25</td>\n",
       "      <td>0.5</td>\n",
       "      <td>0.00</td>\n",
       "      <td>0.0</td>\n",
       "      <td>1.0</td>\n",
       "      <td>20.85</td>\n",
       "      <td>0.0</td>\n",
       "      <td>1.25</td>\n",
       "    </tr>\n",
       "    <tr>\n",
       "      <th>4</th>\n",
       "      <td>2</td>\n",
       "      <td>2023-01-01 00:10:29</td>\n",
       "      <td>2023-01-01 00:21:19</td>\n",
       "      <td>1.0</td>\n",
       "      <td>1.43</td>\n",
       "      <td>1.0</td>\n",
       "      <td>N</td>\n",
       "      <td>107</td>\n",
       "      <td>79</td>\n",
       "      <td>1</td>\n",
       "      <td>11.4</td>\n",
       "      <td>1.00</td>\n",
       "      <td>0.5</td>\n",
       "      <td>3.28</td>\n",
       "      <td>0.0</td>\n",
       "      <td>1.0</td>\n",
       "      <td>19.68</td>\n",
       "      <td>2.5</td>\n",
       "      <td>0.00</td>\n",
       "    </tr>\n",
       "  </tbody>\n",
       "</table>\n",
       "</div>"
      ],
      "text/plain": [
       "   VendorID tpep_pickup_datetime tpep_dropoff_datetime  passenger_count  \\\n",
       "0         2  2023-01-01 00:32:10   2023-01-01 00:40:36              1.0   \n",
       "1         2  2023-01-01 00:55:08   2023-01-01 01:01:27              1.0   \n",
       "2         2  2023-01-01 00:25:04   2023-01-01 00:37:49              1.0   \n",
       "3         1  2023-01-01 00:03:48   2023-01-01 00:13:25              0.0   \n",
       "4         2  2023-01-01 00:10:29   2023-01-01 00:21:19              1.0   \n",
       "\n",
       "   trip_distance  RatecodeID store_and_fwd_flag  PULocationID  DOLocationID  \\\n",
       "0           0.97         1.0                  N           161           141   \n",
       "1           1.10         1.0                  N            43           237   \n",
       "2           2.51         1.0                  N            48           238   \n",
       "3           1.90         1.0                  N           138             7   \n",
       "4           1.43         1.0                  N           107            79   \n",
       "\n",
       "   payment_type  fare_amount  extra  mta_tax  tip_amount  tolls_amount  \\\n",
       "0             2          9.3   1.00      0.5        0.00           0.0   \n",
       "1             1          7.9   1.00      0.5        4.00           0.0   \n",
       "2             1         14.9   1.00      0.5       15.00           0.0   \n",
       "3             1         12.1   7.25      0.5        0.00           0.0   \n",
       "4             1         11.4   1.00      0.5        3.28           0.0   \n",
       "\n",
       "   improvement_surcharge  total_amount  congestion_surcharge  airport_fee  \n",
       "0                    1.0         14.30                   2.5         0.00  \n",
       "1                    1.0         16.90                   2.5         0.00  \n",
       "2                    1.0         34.90                   2.5         0.00  \n",
       "3                    1.0         20.85                   0.0         1.25  \n",
       "4                    1.0         19.68                   2.5         0.00  "
      ]
     },
     "execution_count": 6,
     "metadata": {},
     "output_type": "execute_result"
    }
   ],
   "source": [
    "df1.head()"
   ]
  },
  {
   "cell_type": "code",
   "execution_count": 7,
   "id": "3ed46801-f184-46f4-a60e-f781b2043f61",
   "metadata": {
    "execution": {
     "iopub.execute_input": "2025-05-21T23:25:34.387503Z",
     "iopub.status.busy": "2025-05-21T23:25:34.387290Z",
     "iopub.status.idle": "2025-05-21T23:25:34.390824Z",
     "shell.execute_reply": "2025-05-21T23:25:34.390278Z",
     "shell.execute_reply.started": "2025-05-21T23:25:34.387489Z"
    },
    "tags": []
   },
   "outputs": [
    {
     "data": {
      "text/plain": [
       "(3066766, 19)"
      ]
     },
     "execution_count": 7,
     "metadata": {},
     "output_type": "execute_result"
    }
   ],
   "source": [
    "df1.shape"
   ]
  },
  {
   "cell_type": "code",
   "execution_count": 8,
   "id": "ad1ace49-fba9-46b3-935c-260a88a5a712",
   "metadata": {
    "execution": {
     "iopub.execute_input": "2025-05-21T23:25:34.393001Z",
     "iopub.status.busy": "2025-05-21T23:25:34.392817Z",
     "iopub.status.idle": "2025-05-21T23:25:38.327003Z",
     "shell.execute_reply": "2025-05-21T23:25:38.326625Z",
     "shell.execute_reply.started": "2025-05-21T23:25:34.392988Z"
    },
    "tags": []
   },
   "outputs": [],
   "source": [
    "df2 = pd.read_parquet('https://d37ci6vzurychx.cloudfront.net/trip-data/yellow_tripdata_2023-02.parquet')"
   ]
  },
  {
   "cell_type": "code",
   "execution_count": 9,
   "id": "f5916ff7-cf2d-4289-ad7c-4ac41b614c7b",
   "metadata": {
    "execution": {
     "iopub.execute_input": "2025-05-21T23:25:38.327673Z",
     "iopub.status.busy": "2025-05-21T23:25:38.327539Z",
     "iopub.status.idle": "2025-05-21T23:25:38.339050Z",
     "shell.execute_reply": "2025-05-21T23:25:38.338610Z",
     "shell.execute_reply.started": "2025-05-21T23:25:38.327661Z"
    },
    "tags": []
   },
   "outputs": [
    {
     "data": {
      "text/html": [
       "<div>\n",
       "<style scoped>\n",
       "    .dataframe tbody tr th:only-of-type {\n",
       "        vertical-align: middle;\n",
       "    }\n",
       "\n",
       "    .dataframe tbody tr th {\n",
       "        vertical-align: top;\n",
       "    }\n",
       "\n",
       "    .dataframe thead th {\n",
       "        text-align: right;\n",
       "    }\n",
       "</style>\n",
       "<table border=\"1\" class=\"dataframe\">\n",
       "  <thead>\n",
       "    <tr style=\"text-align: right;\">\n",
       "      <th></th>\n",
       "      <th>VendorID</th>\n",
       "      <th>tpep_pickup_datetime</th>\n",
       "      <th>tpep_dropoff_datetime</th>\n",
       "      <th>passenger_count</th>\n",
       "      <th>trip_distance</th>\n",
       "      <th>RatecodeID</th>\n",
       "      <th>store_and_fwd_flag</th>\n",
       "      <th>PULocationID</th>\n",
       "      <th>DOLocationID</th>\n",
       "      <th>payment_type</th>\n",
       "      <th>fare_amount</th>\n",
       "      <th>extra</th>\n",
       "      <th>mta_tax</th>\n",
       "      <th>tip_amount</th>\n",
       "      <th>tolls_amount</th>\n",
       "      <th>improvement_surcharge</th>\n",
       "      <th>total_amount</th>\n",
       "      <th>congestion_surcharge</th>\n",
       "      <th>Airport_fee</th>\n",
       "    </tr>\n",
       "  </thead>\n",
       "  <tbody>\n",
       "    <tr>\n",
       "      <th>0</th>\n",
       "      <td>1.0</td>\n",
       "      <td>2023-02-01 00:32:53</td>\n",
       "      <td>2023-02-01 00:34:34</td>\n",
       "      <td>2.0</td>\n",
       "      <td>0.30</td>\n",
       "      <td>1.0</td>\n",
       "      <td>N</td>\n",
       "      <td>142.0</td>\n",
       "      <td>163.0</td>\n",
       "      <td>2.0</td>\n",
       "      <td>4.4</td>\n",
       "      <td>3.50</td>\n",
       "      <td>0.5</td>\n",
       "      <td>0.0</td>\n",
       "      <td>0.0</td>\n",
       "      <td>1.0</td>\n",
       "      <td>9.40</td>\n",
       "      <td>2.5</td>\n",
       "      <td>0.00</td>\n",
       "    </tr>\n",
       "    <tr>\n",
       "      <th>1</th>\n",
       "      <td>2.0</td>\n",
       "      <td>2023-02-01 00:35:16</td>\n",
       "      <td>2023-02-01 00:35:30</td>\n",
       "      <td>1.0</td>\n",
       "      <td>0.00</td>\n",
       "      <td>1.0</td>\n",
       "      <td>N</td>\n",
       "      <td>71.0</td>\n",
       "      <td>71.0</td>\n",
       "      <td>4.0</td>\n",
       "      <td>-3.0</td>\n",
       "      <td>-1.00</td>\n",
       "      <td>-0.5</td>\n",
       "      <td>0.0</td>\n",
       "      <td>0.0</td>\n",
       "      <td>-1.0</td>\n",
       "      <td>-5.50</td>\n",
       "      <td>0.0</td>\n",
       "      <td>0.00</td>\n",
       "    </tr>\n",
       "    <tr>\n",
       "      <th>2</th>\n",
       "      <td>2.0</td>\n",
       "      <td>2023-02-01 00:35:16</td>\n",
       "      <td>2023-02-01 00:35:30</td>\n",
       "      <td>1.0</td>\n",
       "      <td>0.00</td>\n",
       "      <td>1.0</td>\n",
       "      <td>N</td>\n",
       "      <td>71.0</td>\n",
       "      <td>71.0</td>\n",
       "      <td>4.0</td>\n",
       "      <td>3.0</td>\n",
       "      <td>1.00</td>\n",
       "      <td>0.5</td>\n",
       "      <td>0.0</td>\n",
       "      <td>0.0</td>\n",
       "      <td>1.0</td>\n",
       "      <td>5.50</td>\n",
       "      <td>0.0</td>\n",
       "      <td>0.00</td>\n",
       "    </tr>\n",
       "    <tr>\n",
       "      <th>3</th>\n",
       "      <td>1.0</td>\n",
       "      <td>2023-02-01 00:29:33</td>\n",
       "      <td>2023-02-01 01:01:38</td>\n",
       "      <td>0.0</td>\n",
       "      <td>18.80</td>\n",
       "      <td>1.0</td>\n",
       "      <td>N</td>\n",
       "      <td>132.0</td>\n",
       "      <td>26.0</td>\n",
       "      <td>1.0</td>\n",
       "      <td>70.9</td>\n",
       "      <td>2.25</td>\n",
       "      <td>0.5</td>\n",
       "      <td>0.0</td>\n",
       "      <td>0.0</td>\n",
       "      <td>1.0</td>\n",
       "      <td>74.65</td>\n",
       "      <td>0.0</td>\n",
       "      <td>1.25</td>\n",
       "    </tr>\n",
       "    <tr>\n",
       "      <th>4</th>\n",
       "      <td>2.0</td>\n",
       "      <td>2023-02-01 00:12:28</td>\n",
       "      <td>2023-02-01 00:25:46</td>\n",
       "      <td>1.0</td>\n",
       "      <td>3.22</td>\n",
       "      <td>1.0</td>\n",
       "      <td>N</td>\n",
       "      <td>161.0</td>\n",
       "      <td>145.0</td>\n",
       "      <td>1.0</td>\n",
       "      <td>17.0</td>\n",
       "      <td>1.00</td>\n",
       "      <td>0.5</td>\n",
       "      <td>3.3</td>\n",
       "      <td>0.0</td>\n",
       "      <td>1.0</td>\n",
       "      <td>25.30</td>\n",
       "      <td>2.5</td>\n",
       "      <td>0.00</td>\n",
       "    </tr>\n",
       "  </tbody>\n",
       "</table>\n",
       "</div>"
      ],
      "text/plain": [
       "   VendorID tpep_pickup_datetime tpep_dropoff_datetime  passenger_count  \\\n",
       "0       1.0  2023-02-01 00:32:53   2023-02-01 00:34:34              2.0   \n",
       "1       2.0  2023-02-01 00:35:16   2023-02-01 00:35:30              1.0   \n",
       "2       2.0  2023-02-01 00:35:16   2023-02-01 00:35:30              1.0   \n",
       "3       1.0  2023-02-01 00:29:33   2023-02-01 01:01:38              0.0   \n",
       "4       2.0  2023-02-01 00:12:28   2023-02-01 00:25:46              1.0   \n",
       "\n",
       "   trip_distance  RatecodeID store_and_fwd_flag  PULocationID  DOLocationID  \\\n",
       "0           0.30         1.0                  N         142.0         163.0   \n",
       "1           0.00         1.0                  N          71.0          71.0   \n",
       "2           0.00         1.0                  N          71.0          71.0   \n",
       "3          18.80         1.0                  N         132.0          26.0   \n",
       "4           3.22         1.0                  N         161.0         145.0   \n",
       "\n",
       "   payment_type  fare_amount  extra  mta_tax  tip_amount  tolls_amount  \\\n",
       "0           2.0          4.4   3.50      0.5         0.0           0.0   \n",
       "1           4.0         -3.0  -1.00     -0.5         0.0           0.0   \n",
       "2           4.0          3.0   1.00      0.5         0.0           0.0   \n",
       "3           1.0         70.9   2.25      0.5         0.0           0.0   \n",
       "4           1.0         17.0   1.00      0.5         3.3           0.0   \n",
       "\n",
       "   improvement_surcharge  total_amount  congestion_surcharge  Airport_fee  \n",
       "0                    1.0          9.40                   2.5         0.00  \n",
       "1                   -1.0         -5.50                   0.0         0.00  \n",
       "2                    1.0          5.50                   0.0         0.00  \n",
       "3                    1.0         74.65                   0.0         1.25  \n",
       "4                    1.0         25.30                   2.5         0.00  "
      ]
     },
     "execution_count": 9,
     "metadata": {},
     "output_type": "execute_result"
    }
   ],
   "source": [
    "df2.head()"
   ]
  },
  {
   "cell_type": "code",
   "execution_count": 10,
   "id": "36d4b653-be20-4ad8-9e9d-73b1c0289300",
   "metadata": {
    "execution": {
     "iopub.execute_input": "2025-05-21T23:25:38.339987Z",
     "iopub.status.busy": "2025-05-21T23:25:38.339787Z",
     "iopub.status.idle": "2025-05-21T23:25:38.342976Z",
     "shell.execute_reply": "2025-05-21T23:25:38.342587Z",
     "shell.execute_reply.started": "2025-05-21T23:25:38.339974Z"
    },
    "tags": []
   },
   "outputs": [
    {
     "data": {
      "text/plain": [
       "(2913955, 19)"
      ]
     },
     "execution_count": 10,
     "metadata": {},
     "output_type": "execute_result"
    }
   ],
   "source": [
    "df2.shape"
   ]
  },
  {
   "cell_type": "markdown",
   "id": "66bec7a3-5490-4322-938f-39acdfa30944",
   "metadata": {},
   "source": [
    "### Duration"
   ]
  },
  {
   "cell_type": "code",
   "execution_count": 11,
   "id": "80abb553-7d8d-46a2-a0d4-0560aab2cb19",
   "metadata": {
    "execution": {
     "iopub.execute_input": "2025-05-21T23:25:38.343756Z",
     "iopub.status.busy": "2025-05-21T23:25:38.343568Z",
     "iopub.status.idle": "2025-05-21T23:25:38.417652Z",
     "shell.execute_reply": "2025-05-21T23:25:38.417172Z",
     "shell.execute_reply.started": "2025-05-21T23:25:38.343716Z"
    },
    "tags": []
   },
   "outputs": [],
   "source": [
    "df1['duration'] = (df1['tpep_dropoff_datetime'] - df1['tpep_pickup_datetime']) / np.timedelta64(1, 'm')\n",
    "df2['duration'] = (df2['tpep_dropoff_datetime'] - df2['tpep_pickup_datetime']) / np.timedelta64(1, 'm')"
   ]
  },
  {
   "cell_type": "code",
   "execution_count": 12,
   "id": "bff11ce4-57f0-40b3-9d03-11eb47f1f2ef",
   "metadata": {
    "execution": {
     "iopub.execute_input": "2025-05-21T23:25:38.418295Z",
     "iopub.status.busy": "2025-05-21T23:25:38.418173Z",
     "iopub.status.idle": "2025-05-21T23:25:38.432718Z",
     "shell.execute_reply": "2025-05-21T23:25:38.432110Z",
     "shell.execute_reply.started": "2025-05-21T23:25:38.418284Z"
    },
    "scrolled": true,
    "tags": []
   },
   "outputs": [
    {
     "data": {
      "text/plain": [
       "42.594351241920904"
      ]
     },
     "execution_count": 12,
     "metadata": {},
     "output_type": "execute_result"
    }
   ],
   "source": [
    "# calculate standard deviation\n",
    "df1['duration'].std()"
   ]
  },
  {
   "cell_type": "code",
   "execution_count": 13,
   "id": "904bed38-7cbf-4445-9b36-0b68ca2eafdc",
   "metadata": {
    "execution": {
     "iopub.execute_input": "2025-05-21T23:25:38.433644Z",
     "iopub.status.busy": "2025-05-21T23:25:38.433402Z",
     "iopub.status.idle": "2025-05-21T23:25:38.634492Z",
     "shell.execute_reply": "2025-05-21T23:25:38.634036Z",
     "shell.execute_reply.started": "2025-05-21T23:25:38.433631Z"
    },
    "tags": []
   },
   "outputs": [
    {
     "data": {
      "text/plain": [
       "0.9812202822125979"
      ]
     },
     "execution_count": 13,
     "metadata": {},
     "output_type": "execute_result"
    }
   ],
   "source": [
    "# remove outliers, keep only duration between 1 - 60 mins\n",
    "df1_clean = df1[(df1['duration'] >= 1) & (df1['duration'] <= 60)]\n",
    "len(df1_clean) / len(df1)"
   ]
  },
  {
   "cell_type": "code",
   "execution_count": 31,
   "id": "75ce7ee8-7198-4ae7-b821-0bce4ed29224",
   "metadata": {
    "execution": {
     "iopub.execute_input": "2025-05-21T23:31:21.316200Z",
     "iopub.status.busy": "2025-05-21T23:31:21.315471Z",
     "iopub.status.idle": "2025-05-21T23:31:21.637179Z",
     "shell.execute_reply": "2025-05-21T23:31:21.636775Z",
     "shell.execute_reply.started": "2025-05-21T23:31:21.316152Z"
    },
    "tags": []
   },
   "outputs": [
    {
     "data": {
      "text/plain": [
       "0.9800944077722545"
      ]
     },
     "execution_count": 31,
     "metadata": {},
     "output_type": "execute_result"
    }
   ],
   "source": [
    "# remove outliers, keep only duration between 1 - 60 mins\n",
    "df2_clean = df2[(df2['duration'] >= 1) & (df2['duration'] <= 60)]\n",
    "len(df2_clean) / len(df2)"
   ]
  },
  {
   "cell_type": "markdown",
   "id": "76010b39-1352-4bfb-8a95-9eff10964e16",
   "metadata": {
    "execution": {
     "iopub.execute_input": "2025-05-21T23:31:14.437153Z",
     "iopub.status.busy": "2025-05-21T23:31:14.436558Z",
     "iopub.status.idle": "2025-05-21T23:31:14.441365Z",
     "shell.execute_reply": "2025-05-21T23:31:14.440382Z",
     "shell.execute_reply.started": "2025-05-21T23:31:14.437115Z"
    }
   },
   "source": [
    "### One-hot encoding"
   ]
  },
  {
   "cell_type": "code",
   "execution_count": 14,
   "id": "d2e19c42-b676-422d-8763-502412bffbc1",
   "metadata": {
    "execution": {
     "iopub.execute_input": "2025-05-21T23:25:38.635346Z",
     "iopub.status.busy": "2025-05-21T23:25:38.635217Z",
     "iopub.status.idle": "2025-05-21T23:25:39.595566Z",
     "shell.execute_reply": "2025-05-21T23:25:39.595137Z",
     "shell.execute_reply.started": "2025-05-21T23:25:38.635334Z"
    },
    "tags": []
   },
   "outputs": [],
   "source": [
    "locs = df1_clean[['PULocationID', 'DOLocationID']].astype(str)"
   ]
  },
  {
   "cell_type": "code",
   "execution_count": 15,
   "id": "b71f1a42-780f-4c26-8395-87679bb089d7",
   "metadata": {
    "execution": {
     "iopub.execute_input": "2025-05-21T23:25:39.596366Z",
     "iopub.status.busy": "2025-05-21T23:25:39.596233Z",
     "iopub.status.idle": "2025-05-21T23:25:44.100954Z",
     "shell.execute_reply": "2025-05-21T23:25:44.100569Z",
     "shell.execute_reply.started": "2025-05-21T23:25:39.596354Z"
    },
    "tags": []
   },
   "outputs": [],
   "source": [
    "dict_locs = locs.to_dict(orient='records')"
   ]
  },
  {
   "cell_type": "code",
   "execution_count": 16,
   "id": "37ae04a9-c256-480c-af20-7b2794412b7f",
   "metadata": {
    "execution": {
     "iopub.execute_input": "2025-05-21T23:25:44.101715Z",
     "iopub.status.busy": "2025-05-21T23:25:44.101580Z",
     "iopub.status.idle": "2025-05-21T23:25:44.104837Z",
     "shell.execute_reply": "2025-05-21T23:25:44.104393Z",
     "shell.execute_reply.started": "2025-05-21T23:25:44.101703Z"
    },
    "tags": []
   },
   "outputs": [],
   "source": [
    "vec = DictVectorizer()"
   ]
  },
  {
   "cell_type": "code",
   "execution_count": 17,
   "id": "b7df437d-8fe5-49fa-83f7-ad585180b5d8",
   "metadata": {
    "execution": {
     "iopub.execute_input": "2025-05-21T23:25:44.107993Z",
     "iopub.status.busy": "2025-05-21T23:25:44.107797Z",
     "iopub.status.idle": "2025-05-21T23:25:48.963354Z",
     "shell.execute_reply": "2025-05-21T23:25:48.962942Z",
     "shell.execute_reply.started": "2025-05-21T23:25:44.107980Z"
    },
    "tags": []
   },
   "outputs": [],
   "source": [
    "X = vec.fit_transform(dict_locs)"
   ]
  },
  {
   "cell_type": "code",
   "execution_count": 18,
   "id": "abcef48a-9c51-45df-a7bc-33ad6cc758bc",
   "metadata": {
    "execution": {
     "iopub.execute_input": "2025-05-21T23:25:48.964072Z",
     "iopub.status.busy": "2025-05-21T23:25:48.963935Z",
     "iopub.status.idle": "2025-05-21T23:25:48.970266Z",
     "shell.execute_reply": "2025-05-21T23:25:48.969884Z",
     "shell.execute_reply.started": "2025-05-21T23:25:48.964059Z"
    },
    "tags": []
   },
   "outputs": [
    {
     "data": {
      "text/plain": [
       "515"
      ]
     },
     "execution_count": 18,
     "metadata": {},
     "output_type": "execute_result"
    }
   ],
   "source": [
    "len(vec.get_feature_names_out())"
   ]
  },
  {
   "cell_type": "markdown",
   "id": "095a1c83-ef02-4f63-86fb-c5d6b08fecbd",
   "metadata": {},
   "source": [
    "### Model training"
   ]
  },
  {
   "cell_type": "code",
   "execution_count": null,
   "id": "bef62276-0eab-43df-8032-2b2163c7969c",
   "metadata": {
    "execution": {
     "iopub.status.busy": "2025-05-21T23:27:18.416526Z",
     "iopub.status.idle": "2025-05-21T23:27:18.416977Z",
     "shell.execute_reply": "2025-05-21T23:27:18.416753Z",
     "shell.execute_reply.started": "2025-05-21T23:27:18.416710Z"
    },
    "tags": []
   },
   "outputs": [],
   "source": [
    "y = df1_clean['duration'].values"
   ]
  },
  {
   "cell_type": "code",
   "execution_count": 20,
   "id": "54545e66-3f3f-4712-bfc2-3212eafc3b86",
   "metadata": {
    "execution": {
     "iopub.execute_input": "2025-05-21T23:25:48.982672Z",
     "iopub.status.busy": "2025-05-21T23:25:48.981059Z",
     "iopub.status.idle": "2025-05-21T23:25:48.987919Z",
     "shell.execute_reply": "2025-05-21T23:25:48.986429Z",
     "shell.execute_reply.started": "2025-05-21T23:25:48.982636Z"
    },
    "tags": []
   },
   "outputs": [],
   "source": [
    "lr = LinearRegression()"
   ]
  },
  {
   "cell_type": "code",
   "execution_count": 21,
   "id": "f22707ff-2905-4737-842d-d4994f7b7e2a",
   "metadata": {
    "execution": {
     "iopub.execute_input": "2025-05-21T23:25:48.989895Z",
     "iopub.status.busy": "2025-05-21T23:25:48.989033Z",
     "iopub.status.idle": "2025-05-21T23:27:18.232509Z",
     "shell.execute_reply": "2025-05-21T23:27:18.231957Z",
     "shell.execute_reply.started": "2025-05-21T23:25:48.989864Z"
    },
    "tags": []
   },
   "outputs": [
    {
     "data": {
      "text/html": [
       "<style>#sk-container-id-1 {color: black;background-color: white;}#sk-container-id-1 pre{padding: 0;}#sk-container-id-1 div.sk-toggleable {background-color: white;}#sk-container-id-1 label.sk-toggleable__label {cursor: pointer;display: block;width: 100%;margin-bottom: 0;padding: 0.3em;box-sizing: border-box;text-align: center;}#sk-container-id-1 label.sk-toggleable__label-arrow:before {content: \"▸\";float: left;margin-right: 0.25em;color: #696969;}#sk-container-id-1 label.sk-toggleable__label-arrow:hover:before {color: black;}#sk-container-id-1 div.sk-estimator:hover label.sk-toggleable__label-arrow:before {color: black;}#sk-container-id-1 div.sk-toggleable__content {max-height: 0;max-width: 0;overflow: hidden;text-align: left;background-color: #f0f8ff;}#sk-container-id-1 div.sk-toggleable__content pre {margin: 0.2em;color: black;border-radius: 0.25em;background-color: #f0f8ff;}#sk-container-id-1 input.sk-toggleable__control:checked~div.sk-toggleable__content {max-height: 200px;max-width: 100%;overflow: auto;}#sk-container-id-1 input.sk-toggleable__control:checked~label.sk-toggleable__label-arrow:before {content: \"▾\";}#sk-container-id-1 div.sk-estimator input.sk-toggleable__control:checked~label.sk-toggleable__label {background-color: #d4ebff;}#sk-container-id-1 div.sk-label input.sk-toggleable__control:checked~label.sk-toggleable__label {background-color: #d4ebff;}#sk-container-id-1 input.sk-hidden--visually {border: 0;clip: rect(1px 1px 1px 1px);clip: rect(1px, 1px, 1px, 1px);height: 1px;margin: -1px;overflow: hidden;padding: 0;position: absolute;width: 1px;}#sk-container-id-1 div.sk-estimator {font-family: monospace;background-color: #f0f8ff;border: 1px dotted black;border-radius: 0.25em;box-sizing: border-box;margin-bottom: 0.5em;}#sk-container-id-1 div.sk-estimator:hover {background-color: #d4ebff;}#sk-container-id-1 div.sk-parallel-item::after {content: \"\";width: 100%;border-bottom: 1px solid gray;flex-grow: 1;}#sk-container-id-1 div.sk-label:hover label.sk-toggleable__label {background-color: #d4ebff;}#sk-container-id-1 div.sk-serial::before {content: \"\";position: absolute;border-left: 1px solid gray;box-sizing: border-box;top: 0;bottom: 0;left: 50%;z-index: 0;}#sk-container-id-1 div.sk-serial {display: flex;flex-direction: column;align-items: center;background-color: white;padding-right: 0.2em;padding-left: 0.2em;position: relative;}#sk-container-id-1 div.sk-item {position: relative;z-index: 1;}#sk-container-id-1 div.sk-parallel {display: flex;align-items: stretch;justify-content: center;background-color: white;position: relative;}#sk-container-id-1 div.sk-item::before, #sk-container-id-1 div.sk-parallel-item::before {content: \"\";position: absolute;border-left: 1px solid gray;box-sizing: border-box;top: 0;bottom: 0;left: 50%;z-index: -1;}#sk-container-id-1 div.sk-parallel-item {display: flex;flex-direction: column;z-index: 1;position: relative;background-color: white;}#sk-container-id-1 div.sk-parallel-item:first-child::after {align-self: flex-end;width: 50%;}#sk-container-id-1 div.sk-parallel-item:last-child::after {align-self: flex-start;width: 50%;}#sk-container-id-1 div.sk-parallel-item:only-child::after {width: 0;}#sk-container-id-1 div.sk-dashed-wrapped {border: 1px dashed gray;margin: 0 0.4em 0.5em 0.4em;box-sizing: border-box;padding-bottom: 0.4em;background-color: white;}#sk-container-id-1 div.sk-label label {font-family: monospace;font-weight: bold;display: inline-block;line-height: 1.2em;}#sk-container-id-1 div.sk-label-container {text-align: center;}#sk-container-id-1 div.sk-container {/* jupyter's `normalize.less` sets `[hidden] { display: none; }` but bootstrap.min.css set `[hidden] { display: none !important; }` so we also need the `!important` here to be able to override the default hidden behavior on the sphinx rendered scikit-learn.org. See: https://github.com/scikit-learn/scikit-learn/issues/21755 */display: inline-block !important;position: relative;}#sk-container-id-1 div.sk-text-repr-fallback {display: none;}</style><div id=\"sk-container-id-1\" class=\"sk-top-container\"><div class=\"sk-text-repr-fallback\"><pre>LinearRegression()</pre><b>In a Jupyter environment, please rerun this cell to show the HTML representation or trust the notebook. <br />On GitHub, the HTML representation is unable to render, please try loading this page with nbviewer.org.</b></div><div class=\"sk-container\" hidden><div class=\"sk-item\"><div class=\"sk-estimator sk-toggleable\"><input class=\"sk-toggleable__control sk-hidden--visually\" id=\"sk-estimator-id-1\" type=\"checkbox\" checked><label for=\"sk-estimator-id-1\" class=\"sk-toggleable__label sk-toggleable__label-arrow\">LinearRegression</label><div class=\"sk-toggleable__content\"><pre>LinearRegression()</pre></div></div></div></div></div>"
      ],
      "text/plain": [
       "LinearRegression()"
      ]
     },
     "execution_count": 21,
     "metadata": {},
     "output_type": "execute_result"
    }
   ],
   "source": [
    "lr.fit(X, y)"
   ]
  },
  {
   "cell_type": "code",
   "execution_count": 22,
   "id": "68beb1bd-4812-490d-9fe6-c22a996d08aa",
   "metadata": {
    "execution": {
     "iopub.execute_input": "2025-05-21T23:27:18.233711Z",
     "iopub.status.busy": "2025-05-21T23:27:18.233445Z",
     "iopub.status.idle": "2025-05-21T23:27:18.389437Z",
     "shell.execute_reply": "2025-05-21T23:27:18.388873Z",
     "shell.execute_reply.started": "2025-05-21T23:27:18.233697Z"
    },
    "tags": []
   },
   "outputs": [],
   "source": [
    "y_pred = lr.predict(X)"
   ]
  },
  {
   "cell_type": "code",
   "execution_count": 24,
   "id": "688e307a-159c-43fd-a357-098ccdfa7855",
   "metadata": {
    "execution": {
     "iopub.execute_input": "2025-05-21T23:27:34.998612Z",
     "iopub.status.busy": "2025-05-21T23:27:34.998004Z",
     "iopub.status.idle": "2025-05-21T23:27:35.017219Z",
     "shell.execute_reply": "2025-05-21T23:27:35.016045Z",
     "shell.execute_reply.started": "2025-05-21T23:27:34.998570Z"
    },
    "tags": []
   },
   "outputs": [
    {
     "name": "stdout",
     "output_type": "stream",
     "text": [
      "7.649262106350244\n"
     ]
    }
   ],
   "source": [
    "print(mean_squared_error(y, y_pred, squared=False))"
   ]
  },
  {
   "cell_type": "markdown",
   "id": "3477dc99-361c-4242-a87c-b34cb4f3a068",
   "metadata": {},
   "source": [
    "### Model testing"
   ]
  },
  {
   "cell_type": "code",
   "execution_count": 32,
   "id": "21dbcf0d-4015-4366-833b-b8715342e26f",
   "metadata": {
    "execution": {
     "iopub.execute_input": "2025-05-21T23:31:28.357575Z",
     "iopub.status.busy": "2025-05-21T23:31:28.357033Z",
     "iopub.status.idle": "2025-05-21T23:31:38.626919Z",
     "shell.execute_reply": "2025-05-21T23:31:38.626425Z",
     "shell.execute_reply.started": "2025-05-21T23:31:28.357542Z"
    },
    "tags": []
   },
   "outputs": [],
   "source": [
    "locs_test = df2_clean[['PULocationID', 'DOLocationID']].astype(str)\n",
    "dict_locs_test = locs_test.to_dict(orient='records')\n",
    "X_test = vec.transform(dict_locs_test)"
   ]
  },
  {
   "cell_type": "code",
   "execution_count": 36,
   "id": "e5cb4618-16fd-47d5-a166-9723773f7be2",
   "metadata": {
    "execution": {
     "iopub.execute_input": "2025-05-21T23:32:02.144254Z",
     "iopub.status.busy": "2025-05-21T23:32:02.142906Z",
     "iopub.status.idle": "2025-05-21T23:32:02.154145Z",
     "shell.execute_reply": "2025-05-21T23:32:02.152011Z",
     "shell.execute_reply.started": "2025-05-21T23:32:02.144167Z"
    },
    "tags": []
   },
   "outputs": [],
   "source": [
    "y_test = df2_clean['duration'].values"
   ]
  },
  {
   "cell_type": "code",
   "execution_count": 37,
   "id": "415f6911-e1a9-4260-8770-de1c73ae80fd",
   "metadata": {
    "execution": {
     "iopub.execute_input": "2025-05-21T23:32:02.435031Z",
     "iopub.status.busy": "2025-05-21T23:32:02.434099Z",
     "iopub.status.idle": "2025-05-21T23:32:02.586199Z",
     "shell.execute_reply": "2025-05-21T23:32:02.585747Z",
     "shell.execute_reply.started": "2025-05-21T23:32:02.434966Z"
    },
    "tags": []
   },
   "outputs": [],
   "source": [
    "y_test_pred = lr.predict(X_test)"
   ]
  },
  {
   "cell_type": "code",
   "execution_count": 38,
   "id": "7fcb7b15-2f24-4ed5-809d-d376c94929e4",
   "metadata": {
    "execution": {
     "iopub.execute_input": "2025-05-21T23:32:02.785132Z",
     "iopub.status.busy": "2025-05-21T23:32:02.784608Z",
     "iopub.status.idle": "2025-05-21T23:32:02.815684Z",
     "shell.execute_reply": "2025-05-21T23:32:02.814999Z",
     "shell.execute_reply.started": "2025-05-21T23:32:02.785099Z"
    },
    "tags": []
   },
   "outputs": [
    {
     "name": "stdout",
     "output_type": "stream",
     "text": [
      "13.324389221271757\n"
     ]
    }
   ],
   "source": [
    "print(mean_squared_error(y_test, y_test_pred, squared=False))"
   ]
  },
  {
   "cell_type": "code",
   "execution_count": null,
   "id": "2adbcda1-51d9-4459-9eaf-d96236d0f681",
   "metadata": {},
   "outputs": [],
   "source": []
  }
 ],
 "metadata": {
  "kernelspec": {
   "display_name": "Python 3 (ipykernel)",
   "language": "python",
   "name": "python3"
  },
  "language_info": {
   "codemirror_mode": {
    "name": "ipython",
    "version": 3
   },
   "file_extension": ".py",
   "mimetype": "text/x-python",
   "name": "python",
   "nbconvert_exporter": "python",
   "pygments_lexer": "ipython3",
   "version": "3.9.13"
  }
 },
 "nbformat": 4,
 "nbformat_minor": 5
}
